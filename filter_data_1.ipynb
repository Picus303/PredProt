{
 "cells": [
  {
   "cell_type": "code",
   "execution_count": 1,
   "metadata": {},
   "outputs": [],
   "source": [
    "import ijson\n",
    "import json\n",
    "\n",
    "# Ouvrir le fichier JSON en mode streaming\n",
    "with open('data.json', 'r') as file:\n",
    "    # Initialiser un tableau pour stocker les résultats filtrés\n",
    "    filtered_data = []\n",
    "\n",
    "    # Utiliser ijson pour lire les objets dans \"results\"\n",
    "    for result in ijson.items(file, 'results.item'):\n",
    "        sequence = result[\"sequence\"][\"value\"]\n",
    "        references = result.get(\"uniProtKBCrossReferences\", [])\n",
    "        ids = []\n",
    "\n",
    "        # Filtrer les références pour ne garder que celles de la base \"GO\"\n",
    "        for reference in references:\n",
    "            if reference.get(\"database\") == \"GO\":\n",
    "                ids.append(reference.get(\"id\"))\n",
    "        \n",
    "        # Si on a trouvé des IDs GO, ajouter l'entrée aux données filtrées\n",
    "        if len(ids) > 0:\n",
    "            filtered_data.append({\n",
    "                \"sequence\": sequence,\n",
    "                \"go_ids\": ids\n",
    "            })\n",
    "\n",
    "# Sauvegarder les données filtrées\n",
    "if filtered_data:\n",
    "    with open('filtered_data.json', 'w') as outfile:\n",
    "        json.dump(filtered_data, outfile, indent=4)"
   ]
  },
  {
   "cell_type": "code",
   "execution_count": null,
   "metadata": {},
   "outputs": [],
   "source": [
    "import json\n",
    "\n",
    "with open('filtered_data.json', 'r') as file:\n",
    "\tdata = json.load(file)\n",
    "\n",
    "print(len(data))"
   ]
  },
  {
   "cell_type": "code",
   "execution_count": null,
   "metadata": {},
   "outputs": [],
   "source": [
    "import numpy as np\n",
    "\n",
    "sequence_lengths = np.array([len(entry[\"sequence\"]) for entry in data])\n",
    "\n",
    "# Calcul des quantiles\n",
    "quantiles = np.percentile(sequence_lengths, [25, 50, 75, 90, 95, 99])\n",
    "print(quantiles)\n",
    "\n",
    "# Calcul des valeurs extrêmes\n",
    "min_length = np.min(sequence_lengths)\n",
    "max_length = np.max(sequence_lengths)\n",
    "print(min_length, max_length)\n",
    "\n",
    "# Calcul de la moyenne et de la médiane\n",
    "mean_length = np.mean(sequence_lengths)\n",
    "median_length = np.median(sequence_lengths)\n",
    "print(mean_length, median_length)"
   ]
  },
  {
   "cell_type": "code",
   "execution_count": null,
   "metadata": {},
   "outputs": [],
   "source": [
    "import matplotlib.pyplot as plt\n",
    "\n",
    "# Calculer les quantiles\n",
    "q = np.arange(0, 100, 0.1)\n",
    "quantiles = np.percentile(sequence_lengths, q)\n",
    "\n",
    "# Tracer le graphique\n",
    "plt.figure(figsize=(10, 6))\n",
    "plt.plot(q, quantiles)\n",
    "plt.xlabel(\"Quantile\")\n",
    "plt.ylabel(\"Longueur de la séquence\")\n",
    "plt.title(\"Quantiles de la longueur des séquences\")\n",
    "plt.grid()\n",
    "plt.show()"
   ]
  },
  {
   "cell_type": "code",
   "execution_count": null,
   "metadata": {},
   "outputs": [],
   "source": [
    "min_length = 50\n",
    "max_length = 900\n",
    "filtered_data = [entry for entry in data if len(entry[\"sequence\"]) >= min_length and len(entry[\"sequence\"]) <= max_length]\n",
    "\n",
    "print(len(filtered_data))\n",
    "\n",
    "# Sauvegarder les données filtrées\n",
    "with open('filtered_data.json', 'w') as file:\n",
    "\tjson.dump(filtered_data, file, indent=4)"
   ]
  }
 ],
 "metadata": {
  "kernelspec": {
   "display_name": "start",
   "language": "python",
   "name": "python3"
  },
  "language_info": {
   "codemirror_mode": {
    "name": "ipython",
    "version": 3
   },
   "file_extension": ".py",
   "mimetype": "text/x-python",
   "name": "python",
   "nbconvert_exporter": "python",
   "pygments_lexer": "ipython3",
   "version": "3.12.1"
  }
 },
 "nbformat": 4,
 "nbformat_minor": 2
}
