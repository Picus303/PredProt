{
 "cells": [
  {
   "cell_type": "code",
   "execution_count": null,
   "metadata": {},
   "outputs": [],
   "source": [
    "import json\n",
    "\n",
    "with open('filtered_data.json') as f:\n",
    "\tdata = json.load(f)\n",
    "\n",
    "print(len(data))\n",
    "print(data[0])"
   ]
  },
  {
   "cell_type": "code",
   "execution_count": null,
   "metadata": {},
   "outputs": [],
   "source": [
    "total_classes = 0\n",
    "classes_count = {}\n",
    "\n",
    "for prot in data:\n",
    "\tfor id in prot[\"go_ids\"]:\n",
    "\t\ttotal_classes += 1\n",
    "\t\tif id not in classes_count:\n",
    "\t\t\tclasses_count[id] = 0\n",
    "\t\tclasses_count[id] += 1\n",
    "\n",
    "print(len(classes_count), total_classes)\n",
    "\n",
    "# Vérifier si une classe n'appaît pas deux fois pour une même protéine\n",
    "for prot in data:\n",
    "\tif len(prot[\"go_ids\"]) != len(set(prot[\"go_ids\"])):\n",
    "\t\tprint(prot[\"go_ids\"])"
   ]
  },
  {
   "cell_type": "code",
   "execution_count": null,
   "metadata": {},
   "outputs": [],
   "source": [
    "import numpy as np\n",
    "\n",
    "counts = np.array(list(classes_count.values()))\n",
    "\n",
    "# Calcul des quantiles\n",
    "quantiles = np.percentile(counts, [25, 50, 75, 90, 95, 99])\n",
    "print(quantiles)\n",
    "\n",
    "# Calcul des valeurs extrêmes\n",
    "min_length = np.min(counts)\n",
    "max_length = np.max(counts)\n",
    "print(min_length, max_length)\n",
    "\n",
    "# Calcul de la moyenne et de la médiane\n",
    "mean_length = np.mean(counts)\n",
    "median_length = np.median(counts)\n",
    "print(mean_length, median_length)"
   ]
  },
  {
   "cell_type": "code",
   "execution_count": null,
   "metadata": {},
   "outputs": [],
   "source": [
    "min_occurences = 1200\n",
    "\n",
    "filtered_classes = [k for k, v in classes_count.items() if v >= min_occurences]\n",
    "\n",
    "print(len(filtered_classes))"
   ]
  },
  {
   "cell_type": "code",
   "execution_count": null,
   "metadata": {},
   "outputs": [],
   "source": [
    "total_classes = 0\n",
    "\n",
    "# Filtrage des données\n",
    "for prot in data:\n",
    "\tprot[\"go_ids\"] = [id for id in prot[\"go_ids\"] if id in filtered_classes]\n",
    "\ttotal_classes += len(prot[\"go_ids\"])\n",
    "\n",
    "print(total_classes)"
   ]
  },
  {
   "cell_type": "code",
   "execution_count": null,
   "metadata": {},
   "outputs": [],
   "source": [
    "data = [prot for prot in data if len(prot[\"go_ids\"]) > 0]\n",
    "\n",
    "print(len(data))"
   ]
  },
  {
   "cell_type": "code",
   "execution_count": 7,
   "metadata": {},
   "outputs": [],
   "source": [
    "with open('filtered_data.json', 'w') as f:\n",
    "\tjson.dump(data, f)"
   ]
  }
 ],
 "metadata": {
  "kernelspec": {
   "display_name": "start",
   "language": "python",
   "name": "python3"
  },
  "language_info": {
   "codemirror_mode": {
    "name": "ipython",
    "version": 3
   },
   "file_extension": ".py",
   "mimetype": "text/x-python",
   "name": "python",
   "nbconvert_exporter": "python",
   "pygments_lexer": "ipython3",
   "version": "3.12.1"
  }
 },
 "nbformat": 4,
 "nbformat_minor": 2
}
