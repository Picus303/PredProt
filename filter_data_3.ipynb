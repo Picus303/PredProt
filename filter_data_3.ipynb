{
 "cells": [
  {
   "cell_type": "code",
   "execution_count": null,
   "metadata": {},
   "outputs": [],
   "source": [
    "import json\n",
    "\n",
    "with open('filtered_data.json') as file:\n",
    "\tdata = json.load(file)\n",
    "\n",
    "print(len(data))\n",
    "print(data[0])"
   ]
  },
  {
   "cell_type": "code",
   "execution_count": null,
   "metadata": {},
   "outputs": [],
   "source": [
    "# Find the number of sequences using the letter 'X', 'U', 'Z', 'B', 'J' or 'O'\n",
    "count = 0\n",
    "indexes = []\n",
    "\n",
    "for i, item in enumerate(data):\n",
    "\tif 'X' in item['sequence'] or 'U' in item['sequence'] or 'Z' in item['sequence'] or 'B' in item['sequence'] or 'J' in item['sequence'] or 'O' in item['sequence']:\n",
    "\t\tcount += 1\n",
    "\t\tindexes.append(i)\n",
    "\n",
    "print(count)"
   ]
  },
  {
   "cell_type": "code",
   "execution_count": null,
   "metadata": {},
   "outputs": [],
   "source": [
    "# Remove sequences with 'X', 'U', 'Z', 'B', 'J' or 'O'\n",
    "for i in sorted(indexes, reverse=True):\n",
    "\tdel data[i]\n",
    "\n",
    "print(len(data))"
   ]
  },
  {
   "cell_type": "code",
   "execution_count": 4,
   "metadata": {},
   "outputs": [],
   "source": [
    "# Save the filtered data\n",
    "with open('filtered_data.json', 'w') as file:\n",
    "\tjson.dump(data, file)"
   ]
  }
 ],
 "metadata": {
  "kernelspec": {
   "display_name": "start",
   "language": "python",
   "name": "python3"
  },
  "language_info": {
   "codemirror_mode": {
    "name": "ipython",
    "version": 3
   },
   "file_extension": ".py",
   "mimetype": "text/x-python",
   "name": "python",
   "nbconvert_exporter": "python",
   "pygments_lexer": "ipython3",
   "version": "3.12.1"
  }
 },
 "nbformat": 4,
 "nbformat_minor": 2
}
