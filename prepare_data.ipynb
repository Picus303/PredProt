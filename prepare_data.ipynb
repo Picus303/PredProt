{
 "cells": [
  {
   "cell_type": "code",
   "execution_count": null,
   "metadata": {},
   "outputs": [],
   "source": [
    "import json\n",
    "\n",
    "with open('filtered_data.json') as f:\n",
    "\tdata = json.load(f)\n",
    "\n",
    "print(len(data))\n",
    "print(data[0])"
   ]
  },
  {
   "cell_type": "code",
   "execution_count": null,
   "metadata": {},
   "outputs": [],
   "source": [
    "from itertools import product\n",
    "\n",
    "amino_acids = ['A', 'R', 'N', 'D', 'C', 'Q', 'E', 'G', 'H', 'I', 'L', 'K', 'M', 'F', 'P', 'S', 'T', 'W', 'Y', 'V']\n",
    "word_size = 3\n",
    "\n",
    "# Generate all sequences of word_size amino acids\n",
    "vocab = [''.join(seq) for seq in product(amino_acids, repeat=word_size)]\n",
    "\n",
    "print(len(vocab))"
   ]
  },
  {
   "cell_type": "code",
   "execution_count": null,
   "metadata": {},
   "outputs": [],
   "source": [
    "class HashMap:\n",
    "\tdef __init__(self, elements):\n",
    "\t\tself.data = {}\n",
    "\t\tfor i, e in enumerate(elements):\n",
    "\t\t\tself.data[e] = i + 1\n",
    "\t\n",
    "\tdef __getitem__(self, key):\n",
    "\t\treturn self.data[key]\n",
    "\n",
    "\tdef __len__(self):\n",
    "\t\treturn len(self.data)\n",
    "\n",
    "vocab_map = HashMap(vocab)\n",
    "print(vocab_map['AAA'])"
   ]
  },
  {
   "cell_type": "code",
   "execution_count": 4,
   "metadata": {},
   "outputs": [],
   "source": [
    "import torch\n",
    "\n",
    "context_length = 900 - word_size + 1\n",
    "\n",
    "X = torch.zeros(len(data), context_length, dtype=torch.long)\n",
    "L = torch.empty(len(data), dtype=torch.long)\n",
    "\n",
    "# Convert sequences to tensors\n",
    "for i, d in enumerate(data):\n",
    "\tsequence = d['sequence']\n",
    "\tL[i] = len(sequence) - word_size + 1\n",
    "\tfor j in range(L[i]):\n",
    "\t\tword = sequence[j:j+word_size]\n",
    "\t\tX[i, j] = vocab_map[word]"
   ]
  },
  {
   "cell_type": "code",
   "execution_count": null,
   "metadata": {},
   "outputs": [],
   "source": [
    "print(X[0])"
   ]
  },
  {
   "cell_type": "code",
   "execution_count": 6,
   "metadata": {},
   "outputs": [],
   "source": [
    "# Save input data\n",
    "torch.save(X, 'X.pt')\n",
    "torch.save(L, 'L.pt')"
   ]
  },
  {
   "cell_type": "code",
   "execution_count": null,
   "metadata": {},
   "outputs": [],
   "source": [
    "classes = set()\n",
    "\n",
    "for d in data:\n",
    "\tfor c in d['go_ids']:\n",
    "\t\tclasses.add(c)\n",
    "\n",
    "print(len(classes))"
   ]
  },
  {
   "cell_type": "code",
   "execution_count": 8,
   "metadata": {},
   "outputs": [],
   "source": [
    "classes = list(classes)\n",
    "\n",
    "# Save reverse mapping\n",
    "with open('classes.json', 'w') as file:\n",
    "\tjson.dump(classes, file)"
   ]
  },
  {
   "cell_type": "code",
   "execution_count": null,
   "metadata": {},
   "outputs": [],
   "source": [
    "class HashMap:\n",
    "\tdef __init__(self, elements):\n",
    "\t\tself.data = {}\n",
    "\t\tfor i, e in enumerate(elements):\n",
    "\t\t\tself.data[e] = i\n",
    "\t\n",
    "\tdef __getitem__(self, key):\n",
    "\t\treturn self.data[key]\n",
    "\n",
    "\tdef __len__(self):\n",
    "\t\treturn len(self.data)\n",
    "\n",
    "classes_map = HashMap(classes)\n",
    "print(classes_map['GO:0003700'])"
   ]
  },
  {
   "cell_type": "code",
   "execution_count": null,
   "metadata": {},
   "outputs": [],
   "source": [
    "Y = torch.zeros(len(data), len(classes), dtype=torch.bool)\n",
    "\n",
    "for i, d in enumerate(data):\n",
    "\tfor c in d['go_ids']:\n",
    "\t\tY[i, classes_map[c]] = True\n",
    "\n",
    "print(Y[0])"
   ]
  },
  {
   "cell_type": "code",
   "execution_count": 11,
   "metadata": {},
   "outputs": [],
   "source": [
    "# Save output data\n",
    "torch.save(Y, 'Y.pt')"
   ]
  },
  {
   "cell_type": "code",
   "execution_count": null,
   "metadata": {},
   "outputs": [],
   "source": [
    "print(X.shape, Y.shape)"
   ]
  }
 ],
 "metadata": {
  "kernelspec": {
   "display_name": "start",
   "language": "python",
   "name": "python3"
  },
  "language_info": {
   "codemirror_mode": {
    "name": "ipython",
    "version": 3
   },
   "file_extension": ".py",
   "mimetype": "text/x-python",
   "name": "python",
   "nbconvert_exporter": "python",
   "pygments_lexer": "ipython3",
   "version": "3.12.1"
  }
 },
 "nbformat": 4,
 "nbformat_minor": 2
}
